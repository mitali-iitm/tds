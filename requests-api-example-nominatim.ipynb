{
 "cells": [
  {
   "cell_type": "code",
   "execution_count": 1,
   "metadata": {},
   "outputs": [
    {
     "name": "stdout",
     "output_type": "stream",
     "text": [
      "successfully imported the requests library\n"
     ]
    }
   ],
   "source": [
    "# importing required LIBRARIES \n",
    "#----------------------------------------\n",
    "import requests\n",
    "print(\"successfully imported the requests library\")\n",
    "#----------------------------------------"
   ]
  },
  {
   "cell_type": "markdown",
   "metadata": {},
   "source": [
    "# Understanding an API\n",
    "We'll use a simple API - [**nominatim**](https://nominatim.openstreetmap.org/ui/search.html)\n",
    "## API Specification:\n",
    "### endpoint:\n",
    "\t\thttps://nominatim.openstreetmap.org/search?\n",
    "### parameters:\n",
    "#### mandatory\n",
    "* format: This will define the format of the response.\n",
    "* q: This stands for the address query.\n",
    "\n",
    "#### optional\n",
    "* limit: how many search results to return"
   ]
  },
  {
   "cell_type": "code",
   "execution_count": 5,
   "metadata": {},
   "outputs": [
    {
     "name": "stdout",
     "output_type": "stream",
     "text": [
      "response code:  200\n",
      "27.1750123,78.04209683661315\n"
     ]
    }
   ],
   "source": [
    "# using the api\n",
    "base_url='https://nominatim.openstreetmap.org/search?'\n",
    "params = { 'format':'json', 'q':'Taj Mahal'} # requests needs parameters to be passed as dictionaries\n",
    "# requesting\n",
    "response = requests.get(base_url, params=params)\n",
    "print(\"response code: \",response.status_code)\n",
    "response.raise_for_status() # will raise exception if status is unsuccessful\n",
    "#----------------------\n",
    "# parsing\n",
    "data=response.json()\n",
    "# presenting the result\n",
    "print(data[0][\"lat\"] + ','  +data[0][\"lon\"])"
   ]
  },
  {
   "cell_type": "code",
   "execution_count": null,
   "metadata": {},
   "outputs": [],
   "source": []
  }
 ],
 "metadata": {
  "kernelspec": {
   "display_name": "Python 3",
   "language": "python",
   "name": "python3"
  },
  "language_info": {
   "codemirror_mode": {
    "name": "ipython",
    "version": 3
   },
   "file_extension": ".py",
   "mimetype": "text/x-python",
   "name": "python",
   "nbconvert_exporter": "python",
   "pygments_lexer": "ipython3",
   "version": "3.8.10"
  }
 },
 "nbformat": 4,
 "nbformat_minor": 4
}
